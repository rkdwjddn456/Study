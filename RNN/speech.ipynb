{
  "nbformat": 4,
  "nbformat_minor": 0,
  "metadata": {
    "colab": {
      "name": "speech",
      "provenance": [],
      "collapsed_sections": []
    },
    "kernelspec": {
      "name": "python3",
      "display_name": "Python 3"
    },
    "language_info": {
      "name": "python"
    },
    "accelerator": "GPU"
  },
  "cells": [
    {
      "cell_type": "markdown",
      "metadata": {
        "id": "iJpzyCYsBUwB"
      },
      "source": [
        "Keras CNN+RNN+DNN으로 음성 인식하기"
      ]
    },
    {
      "cell_type": "markdown",
      "metadata": {
        "id": "i-Yf0ysvBV4q"
      },
      "source": [
        "1. 패키지 수입 및 파라미터 설정"
      ]
    },
    {
      "cell_type": "code",
      "metadata": {
        "id": "8pa_JGkf-xs8"
      },
      "source": [
        "# 1번 블럭\n",
        "# 패키지 수입\n",
        "import os\n",
        "import numpy as np\n",
        "import random\n",
        "\n",
        "from time import time\n",
        "from sklearn.preprocessing import LabelEncoder\n",
        "# 원핫 인코딩\n",
        "from keras.utils.np_utils import to_categorical\n",
        "from sklearn.model_selection import train_test_split\n",
        "\n",
        "# 데이터 처리 진행 상황을 표시\n",
        "from tqdm import tqdm\n",
        "import librosa\n",
        "import librosa.display\n",
        "import matplotlib.pyplot as plt\n",
        "\n",
        "# 케라스 인공신경망\n",
        "from keras.layers import Bidirectional, BatchNormalization\n",
        "from keras.layers import GRU, Dense, Dropout\n",
        "from keras.layers import Conv1D, Input, MaxPool1D\n",
        "from keras.models import Model"
      ],
      "execution_count": null,
      "outputs": []
    },
    {
      "cell_type": "markdown",
      "metadata": {
        "id": "mMKmtC2F3rHW"
      },
      "source": [
        "2. 데이터 불러오기 및 선처리"
      ]
    },
    {
      "cell_type": "code",
      "metadata": {
        "id": "3wjVlcYfGXXr"
      },
      "source": [
        "# 2번 블럭\n",
        "# 파라미터 지정\n",
        "MY_SPLIT = 0.8\n",
        "MY_HIDDEN = 128  # RNN 셀의 복잡 정도\n",
        "MY_DROP = 0.3    # dropout 비율\n",
        "MY_BATCH = 128   # 매번 가져와서 처리하는 데이터 수\n",
        "MY_EPOCH = 100   # 반복 학습 수\n",
        "\n",
        "MY_PATH = '/content/drive/MyDrive/dataset/audio'\n",
        "\n",
        "# 모드 선택\n",
        "DATA_MODE = 0  # 1이면 음성 데이터 처리, 0이면 통과(= 이미 처리해서 저장한 데이터 불러오기)\n",
        "TRAIN_MODE = 0 # 1이면 학습 진행 0이면 통과 (= 이미 처리해서 저장한 데이터 불러오기)\n",
        "\n",
        "# 데이터 참고 리스트 초기화\n",
        "all_wave = []  # 음성 데이터\n",
        "all_label = [] # 라벨 정보\n"
      ],
      "execution_count": null,
      "outputs": []
    },
    {
      "cell_type": "code",
      "metadata": {
        "colab": {
          "base_uri": "https://localhost:8080/",
          "height": 405
        },
        "id": "4RxKrg3nLx1t",
        "outputId": "d1c306e8-c0de-4c95-9b33-9d01fec7add3"
      },
      "source": [
        "# 3번블럭\n",
        "# 샘플 오디오 확인\n",
        "labels = ['go', 'happy', 'seven', 'stop', 'yes']\n",
        "\n",
        "# 샘플 오디오 파일 읽기\n",
        "sound, rate = librosa.load('/content/drive/MyDrive/dataset/SKL-yes.wav')\n",
        "print(rate)\n",
        "print(sound)\n",
        "\n",
        "# 오디오 데이터 시각화\n",
        "plt.figure(figsize=(10,5))\n",
        "librosa.display.waveplot(sound,rate)"
      ],
      "execution_count": null,
      "outputs": [
        {
          "output_type": "stream",
          "text": [
            "22050\n",
            "[-6.6473804e-05 -2.6208448e-04 -3.8669028e-04 ... -2.3058777e-04\n",
            " -8.9272929e-05  0.0000000e+00]\n"
          ],
          "name": "stdout"
        },
        {
          "output_type": "execute_result",
          "data": {
            "text/plain": [
              "<matplotlib.collections.PolyCollection at 0x7f2ad7cb11d0>"
            ]
          },
          "metadata": {
            "tags": []
          },
          "execution_count": 3
        },
        {
          "output_type": "display_data",
          "data": {
            "image/png": "[encoded data removed]",
            "text/plain": [
              "<Figure size 720x360 with 1 Axes>"
            ]
          },
          "metadata": {
            "tags": [],
            "needs_background": "light"
          }
        }
      ]
    },
    {
      "cell_type": "code",
      "metadata": {
        "id": "naFfktFrPd_R"
      },
      "source": [
        "# 4번 블럭\n",
        "# 오디오 리샘플링 처리\n",
        "# 시간 오래 걸림\n",
        "def read_wav():\n",
        "    all_wave = []\n",
        "    all_label = []\n",
        "\n",
        "    print('resampling 시작')\n",
        "    begin = time()\n",
        "\n",
        "    # tqdm 함수로 진행 상황 출력\n",
        "    for label in tqdm(labels):\n",
        "        path = MY_PATH + '/' + label\n",
        "        #print(path)\n",
        "        waves = [f for f in os.listdir(path)]\n",
        "        #print(waves)\n",
        "\n",
        "        # wav 파일 하나씩 처리\n",
        "        for wav in waves:\n",
        "            file = path + '/' + wav\n",
        "            #print(file)\n",
        "            sound, rate = librosa.load(file)\n",
        "\n",
        "            # 8KHz로 다운 샘플링\n",
        "            #print(len(sound))\n",
        "            new = librosa.resample(sound,\n",
        "                                   orig_sr=rate,\n",
        "                                   target_sr=8000)\n",
        "            #print(len(new))\n",
        "\n",
        "            # 성공적으로 8KHz 된 데이터만 저장\n",
        "            if (len(new) == 8000):\n",
        "                all_wave.append(new)\n",
        "                all_label.append(label)\n",
        "\n",
        "    end = time()\n",
        "    print('총 다운 샘플링 시간: {:.2f}'.format(end-begin))\n",
        "\n",
        "    return all_wave, all_label"
      ],
      "execution_count": null,
      "outputs": []
    },
    {
      "cell_type": "code",
      "metadata": {
        "id": "3GM0BL0YcOw8"
      },
      "source": [
        "# 5번 블럭\n",
        "# 라벨 처리 (token 처리)\n",
        "def do_label():\n",
        "    global all_label, all_wave\n",
        "\n",
        "    #print('전', all_label)\n",
        "    encoder = LabelEncoder()\n",
        "    all_label = encoder.fit_transform(all_label)\n",
        "    #print('전', all_label)\n",
        "  \n",
        "    # 라벨을 원핫 인코딩 처리\n",
        "    # to_categorical 함수는 결과를 numpy로 저장\n",
        "    all_label = to_categorical(all_label, len(labels))\n",
        "    #print('후', all_label)\n",
        "    #print(type(all_label))\n",
        "\n",
        "    # 음성 데이터를 numpy로 전환\n",
        "    #print('전:', type(all_wave))\n",
        "    all_wave = np.array(all_wave)\n",
        "    #print('후:', type(all_wave))\n",
        "\n",
        "    print('전:', all_wave.shape)\n",
        "    all_wave = all_wave.reshape(-1, 8000, 1) # reshape이유는 차원을 하나 늘려줘야 LSTM에서 처리 가능해서\n",
        "    print('후:', all_wave.shape)\n",
        "\n",
        "    return all_wave, all_label"
      ],
      "execution_count": null,
      "outputs": []
    },
    {
      "cell_type": "code",
      "metadata": {
        "colab": {
          "base_uri": "https://localhost:8080/"
        },
        "id": "p93-a-sWw8TB",
        "outputId": "dde94cae-aa4c-40ca-d873-fd1b211cb019"
      },
      "source": [
        "# 6번 블럭\n",
        "# 데이터 처리 컨트롤 타워\n",
        "if DATA_MODE:\n",
        "    all_wave, all_label = read_wav()\n",
        "    all_wave, all_label = do_label()\n",
        "\n",
        "    # 파일에 numpy 저장\n",
        "    with open('speech.npy', 'wb') as file:\n",
        "        np.save(file, all_wave)\n",
        "        np.save(file, all_label)\n",
        "\n",
        "    print('데이터 처리 끝')\n",
        "\n",
        "else:\n",
        "    with open('/content/drive/MyDrive/dataset/speech.npy', 'rb') as file:\n",
        "        all_wave = np.load(file)\n",
        "        all_label = np.load(file)\n",
        "\n",
        "# 최종 데이터 모양 확인\n",
        "print('음성 데이터:', all_wave.shape)\n",
        "print('라벨 데이터:', all_label.shape)\n"
      ],
      "execution_count": null,
      "outputs": [
        {
          "output_type": "stream",
          "text": [
            "음성 데이터: (889, 8000, 1)\n",
            "라벨 데이터: (889, 5)\n"
          ],
          "name": "stdout"
        }
      ]
    },
    {
      "cell_type": "code",
      "metadata": {
        "colab": {
          "base_uri": "https://localhost:8080/"
        },
        "id": "Dj5vj5ytxexn",
        "outputId": "162ef6b7-3984-413b-f5e5-47bf251f8c69"
      },
      "source": [
        "# 7번 블럭\n",
        "# 데이터 4분할\n",
        "\n",
        "X_train, X_test, Y_train, Y_test = train_test_split(all_wave,\n",
        "                                                    all_label,\n",
        "                                                    train_size=MY_SPLIT,\n",
        "                                                    shuffle =True)\n",
        "\n",
        "# 4분할 데이터 모양\n",
        "print('학습용 입력 데이터 모양:',X_train.shape)\n",
        "print('학습용 출력 데이터 모양:',Y_train.shape)\n",
        "\n",
        "print('평가용 입력 데이터 모양:',X_test.shape)\n",
        "print('평가용 입력 데이터 모양:',Y_test.shape)\n",
        "\n",
        "# 샘플 출력\n",
        "pick = 123\n",
        "print(X_train[pick])\n",
        "print(Y_train[pick])"
      ],
      "execution_count": null,
      "outputs": [
        {
          "output_type": "stream",
          "text": [
            "학습용 입력 데이터 모양: (711, 8000, 1)\n",
            "학습용 출력 데이터 모양: (711, 5)\n",
            "평가용 입력 데이터 모양: (178, 8000, 1)\n",
            "평가용 입력 데이터 모양: (178, 5)\n",
            "[[-7.4961366e-07]\n",
            " [ 5.7877241e-07]\n",
            " [-3.9388374e-07]\n",
            " ...\n",
            " [ 2.6460035e-05]\n",
            " [ 8.6496793e-06]\n",
            " [ 1.2013292e-05]]\n",
            "[1. 0. 0. 0. 0.]\n"
          ],
          "name": "stdout"
        }
      ]
    },
    {
      "cell_type": "markdown",
      "metadata": {
        "id": "BxuboYWZ3Wke"
      },
      "source": [
        "3. 인공 신경망 구현"
      ]
    },
    {
      "cell_type": "code",
      "metadata": {
        "id": "BzFWYhLJ3eO3"
      },
      "source": [
        "# 8번 블럭\n",
        "\n",
        "# 입력층 구현\n",
        "\n",
        "# 학습용 데이터 하나의 모양 지정\n",
        "my_input = Input(shape=(8000, 1))\n",
        "\n",
        "# 2번 그룹 구현\n",
        "x = BatchNormalization()(my_input)\n",
        "# 커널 = 필터\n",
        "x = Conv1D(filters=8, \n",
        "           kernel_size=13, \n",
        "           padding='valid', \n",
        "           strides=1, \n",
        "           activation='relu')(x)\n",
        "x = MaxPool1D(pool_size=3)(x)\n",
        "x = Dropout(rate=MY_DROP)(x)\n",
        "\n",
        "# 3번 그룹 구현\n",
        "x = Conv1D(filters=16,\n",
        "           kernel_size=11,\n",
        "           padding='valid',\n",
        "           strides=1,\n",
        "           activation='relu')(x)\n",
        "x = MaxPool1D(pool_size=3)(x)\n",
        "x = Dropout(rate=MY_DROP)(x)\n",
        "           \n",
        "# 4번 그룹 구현\n",
        "x = Conv1D(filters=32,\n",
        "           kernel_size=9,\n",
        "           padding='valid',\n",
        "           strides=1,\n",
        "           activation='relu')(x)\n",
        "x = MaxPool1D(pool_size=3)(x)\n",
        "x = Dropout(rate=MY_DROP)(x)\n",
        "x = BatchNormalization()(x)"
      ],
      "execution_count": null,
      "outputs": []
    },
    {
      "cell_type": "code",
      "metadata": {
        "colab": {
          "base_uri": "https://localhost:8080/"
        },
        "id": "yiQpJQJronYq",
        "outputId": "739e3c33-cac6-467d-97eb-6ebdffc0cd46"
      },
      "source": [
        "# 9번 블럭\n",
        "\n",
        "# 5번 그룹 구현\n",
        "# GRU: 328,868\n",
        "# LSTM: 434,340\n",
        "x = Bidirectional(GRU(units=MY_HIDDEN,\n",
        "                      return_sequences=True),\n",
        "                  merge_mode='sum')(x)\n",
        "\n",
        "x = Bidirectional(GRU(units=MY_HIDDEN,\n",
        "                      return_sequences=True),\n",
        "                  merge_mode='sum')(x)\n",
        "\n",
        "x = Bidirectional(GRU(units=MY_HIDDEN,\n",
        "                      return_sequences=False),\n",
        "                  merge_mode='sum')(x)\n",
        "\n",
        "# 6번 그룹 구현\n",
        "x = BatchNormalization()(x)\n",
        "x = Dense(units=256,\n",
        "          activation='relu')(x)\n",
        "x = Dense(units=len(labels),\n",
        "          activation='softmax')(x)\n",
        "\n",
        "# 인공 신경망 출력\n",
        "model = Model(inputs=my_input,\n",
        "              outputs=x)\n",
        "model.summary()"
      ],
      "execution_count": null,
      "outputs": [
        {
          "output_type": "stream",
          "text": [
            "Model: \"model\"\n",
            "_________________________________________________________________\n",
            "Layer (type)                 Output Shape              Param #   \n",
            "=================================================================\n",
            "input_1 (InputLayer)         [(None, 8000, 1)]         0         \n",
            "_________________________________________________________________\n",
            "batch_normalization (BatchNo (None, 8000, 1)           4         \n",
            "_________________________________________________________________\n",
            "conv1d (Conv1D)              (None, 7988, 8)           112       \n",
            "_________________________________________________________________\n",
            "max_pooling1d (MaxPooling1D) (None, 2662, 8)           0         \n",
            "_________________________________________________________________\n",
            "dropout (Dropout)            (None, 2662, 8)           0         \n",
            "_________________________________________________________________\n",
            "conv1d_1 (Conv1D)            (None, 2652, 16)          1424      \n",
            "_________________________________________________________________\n",
            "max_pooling1d_1 (MaxPooling1 (None, 884, 16)           0         \n",
            "_________________________________________________________________\n",
            "dropout_1 (Dropout)          (None, 884, 16)           0         \n",
            "_________________________________________________________________\n",
            "conv1d_2 (Conv1D)            (None, 876, 32)           4640      \n",
            "_________________________________________________________________\n",
            "max_pooling1d_2 (MaxPooling1 (None, 292, 32)           0         \n",
            "_________________________________________________________________\n",
            "dropout_2 (Dropout)          (None, 292, 32)           0         \n",
            "_________________________________________________________________\n",
            "batch_normalization_1 (Batch (None, 292, 32)           128       \n",
            "_________________________________________________________________\n",
            "bidirectional (Bidirectional (None, 292, 128)          124416    \n",
            "_________________________________________________________________\n",
            "bidirectional_1 (Bidirection (None, 292, 128)          198144    \n",
            "_________________________________________________________________\n",
            "bidirectional_2 (Bidirection (None, 128)               198144    \n",
            "_________________________________________________________________\n",
            "batch_normalization_2 (Batch (None, 128)               512       \n",
            "_________________________________________________________________\n",
            "dense (Dense)                (None, 256)               33024     \n",
            "_________________________________________________________________\n",
            "dense_1 (Dense)              (None, 5)                 1285      \n",
            "=================================================================\n",
            "Total params: 561,833\n",
            "Trainable params: 561,511\n",
            "Non-trainable params: 322\n",
            "_________________________________________________________________\n"
          ],
          "name": "stdout"
        }
      ]
    },
    {
      "cell_type": "markdown",
      "metadata": {
        "id": "NjfndRn3u_Hu"
      },
      "source": [
        "4. 인공 신경망 학습"
      ]
    },
    {
      "cell_type": "code",
      "metadata": {
        "id": "O08-790SvBei"
      },
      "source": [
        "# 10번 블럭\n",
        "# RNN 학습 환경 설정\n",
        "model.compile(optimizer='adam',\n",
        "              loss='categorical_crossentropy',\n",
        "              metrics=['acc'])\n",
        "\n",
        "# RNN 학습 시작\n",
        "if TRAIN_MODE:\n",
        "  begin = time()\n",
        "  model.fit(X_train,\n",
        "            Y_train,\n",
        "            epochs=MY_EPOCH,\n",
        "            batch_size=MY_BATCH,\n",
        "            verbose=1)\n",
        "  end = time()\n",
        "  print('총 학습 시간:{:.2f}'.format(end-begin))\n",
        "\n",
        "  # 가중치 저장\n",
        "  model.save_weights('trained.h5')\n",
        "\n",
        "else:\n",
        "  model.load_weights('/content/drive/MyDrive/dataset/trained.h5')"
      ],
      "execution_count": null,
      "outputs": []
    },
    {
      "cell_type": "markdown",
      "metadata": {
        "id": "GehLdu-bw2BW"
      },
      "source": [
        "5. 인공 신경망 평가 및 활용"
      ]
    },
    {
      "cell_type": "code",
      "metadata": {
        "colab": {
          "base_uri": "https://localhost:8080/"
        },
        "id": "ZChBjj7Dw4Jl",
        "outputId": "e0338ea7-0206-4fa0-bf38-80076131a065"
      },
      "source": [
        "# 11번 블럭\n",
        "# RNN 평가\n",
        "\n",
        "score = model.evaluate(X_test,\n",
        "                       Y_test,\n",
        "                       verbose=1)\n",
        "\n",
        "print('최종 손실값:{:.2f}'.format(score[0]))\n",
        "print('최종 정확도:{:.2f}'.format(score[1]))"
      ],
      "execution_count": null,
      "outputs": [
        {
          "output_type": "stream",
          "text": [
            "6/6 [==============================] - 6s 55ms/step - loss: 0.3352 - acc: 0.9317\n",
            "최종 손실값:0.33\n",
            "최종 정확도:0.94\n"
          ],
          "name": "stdout"
        }
      ]
    },
    {
      "cell_type": "code",
      "metadata": {
        "colab": {
          "base_uri": "https://localhost:8080/"
        },
        "id": "KSdZAP3763G5",
        "outputId": "03065173-5696-4a90-f0c6-24d5b3489f80"
      },
      "source": [
        "# 12번 블럭\n",
        "# 음성을 단어로 전환하는 실험\n",
        "def audio_to_word(audio):\n",
        "  new = audio.reshape(1,8000,1)\n",
        "\n",
        "  # 학습 된 모델로 예측하기\n",
        "  pred = model.predict(new)\n",
        "  pred = pred.argmax(axis=1)\n",
        "  \n",
        "  return labels[pred[0]]\n",
        "\n",
        "print('추측값:',audio_to_word(X_test[0]))\n",
        "print('정답:',Y_test[0])"
      ],
      "execution_count": null,
      "outputs": [
        {
          "output_type": "stream",
          "text": [
            "추측값: go\n",
            "정답: [0. 0. 0. 1. 0.]\n"
          ],
          "name": "stdout"
        }
      ]
    },
    {
      "cell_type": "code",
      "metadata": {
        "colab": {
          "base_uri": "https://localhost:8080/"
        },
        "id": "2ybLoaK6-OBn",
        "outputId": "014a7837-465c-4f14-c34f-58eaf5501072"
      },
      "source": [
        "# 13번 블럭\n",
        "# 내 음성으로 실험하기\n",
        "audio , rate = librosa.load('/content/drive/MyDrive/dataset/SKL-yes.wav')\n",
        "print(rate)\n",
        "\n",
        "# 리샘플링\n",
        "audio = librosa.resample(audio,\n",
        "                         orig_sr=rate,\n",
        "                         target_sr=8000)\n",
        "print(len(audio))\n",
        "\n",
        "# 8KHz로 패딩\n",
        "audio = np.append(audio,np.zeros(118))\n",
        "print(len(audio))\n",
        "\n",
        "# 예측\n",
        "pred = audio_to_word(audio)\n",
        "print('내 목소리 예측값:',pred)"
      ],
      "execution_count": null,
      "outputs": [
        {
          "output_type": "stream",
          "text": [
            "22050\n",
            "7882\n",
            "8000\n",
            "내 목소리 예측값: yes\n"
          ],
          "name": "stdout"
        }
      ]
    }
  ]
}