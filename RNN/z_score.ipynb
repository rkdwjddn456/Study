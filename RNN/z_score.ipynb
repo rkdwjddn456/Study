{
  "nbformat": 4,
  "nbformat_minor": 0,
  "metadata": {
    "colab": {
      "name": "z-score",
      "provenance": [],
      "collapsed_sections": []
    },
    "kernelspec": {
      "name": "python3",
      "display_name": "Python 3"
    },
    "language_info": {
      "name": "python"
    }
  },
  "cells": [
    {
      "cell_type": "markdown",
      "metadata": {
        "id": "fBfJlWoFCtGv"
      },
      "source": [
        "z-score 이론 실습"
      ]
    },
    {
      "cell_type": "code",
      "metadata": {
        "colab": {
          "base_uri": "https://localhost:8080/"
        },
        "id": "tnoWFNd1CKlS",
        "outputId": "e89d4601-3e35-4c59-c228-1e02609dcb5c"
      },
      "source": [
        "import numpy as np\n",
        "from sklearn.preprocessing import StandardScaler\n",
        "\n",
        "my_array=[[1],[2],[3],[1000]]\n",
        "\n",
        "print('평균:', np.average(my_array))\n",
        "print('표준 편차:', np.std(my_array))\n",
        "\n",
        "scaler = StandardScaler()\n",
        "z = scaler.fit_transform(my_array)\n",
        "print(z)\n",
        "\n",
        "# z 점수화 한 결과\n",
        "print('평균:',np.average(z))\n",
        "print('표준편차',np.std(z))"
      ],
      "execution_count": null,
      "outputs": [
        {
          "output_type": "stream",
          "text": [
            "평균: 251.5\n",
            "표준 편차: 432.1472549953314\n",
            "[[-0.57966352]\n",
            " [-0.5773495 ]\n",
            " [-0.57503547]\n",
            " [ 1.73204849]]\n",
            "평균: 0.0\n",
            "표준편차 1.0\n"
          ],
          "name": "stdout"
        }
      ]
    }
  ]
}