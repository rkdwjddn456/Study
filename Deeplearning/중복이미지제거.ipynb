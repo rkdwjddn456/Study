{
  "nbformat": 4,
  "nbformat_minor": 0,
  "metadata": {
    "colab": {
      "name": "중복이미지제거.ipynb",
      "provenance": [],
      "collapsed_sections": []
    },
    "kernelspec": {
      "name": "python3",
      "display_name": "Python 3"
    },
    "language_info": {
      "name": "python"
    }
  },
  "cells": [
    {
      "cell_type": "code",
      "metadata": {
        "id": "1oEgOx38MooK"
      },
      "source": [
        "import os"
      ],
      "execution_count": 1,
      "outputs": []
    },
    {
      "cell_type": "code",
      "metadata": {
        "id": "PmGjNwjXJycl"
      },
      "source": [
        "photo_list = []\n",
        "for f in os.listdir(\"/content/drive/MyDrive/dataset/container\"):\n",
        "    if 'jpg' in f:\n",
        "        photo_list.append(f)"
      ],
      "execution_count": 2,
      "outputs": []
    },
    {
      "cell_type": "code",
      "metadata": {
        "id": "Ujp2UuDKK4_F"
      },
      "source": [
        "photo_size = list(map(lambda x: os.path.getsize('/content/drive/MyDrive/dataset/container' + '/' + x), photo_list))"
      ],
      "execution_count": 3,
      "outputs": []
    },
    {
      "cell_type": "code",
      "metadata": {
        "colab": {
          "base_uri": "https://localhost:8080/"
        },
        "id": "9QOwGEjmOYkV",
        "outputId": "35751d16-31ae-4546-d06d-6fcaf2c04bd7"
      },
      "source": [
        "import pandas as pd\n",
        "fsp = pd.DataFrame({'filename_raw':photo_list, 'size' : photo_size})\n",
        "print(\"사진의 갯수:\", len(fsp))"
      ],
      "execution_count": 4,
      "outputs": [
        {
          "output_type": "stream",
          "name": "stdout",
          "text": [
            "사진의 갯수: 317\n"
          ]
        }
      ]
    },
    {
      "cell_type": "code",
      "metadata": {
        "colab": {
          "base_uri": "https://localhost:8080/",
          "height": 417
        },
        "id": "eisoa1jXOfgC",
        "outputId": "bf51afdc-ea5d-41ed-9a4c-cf3743b65370"
      },
      "source": [
        "fsp"
      ],
      "execution_count": 5,
      "outputs": [
        {
          "output_type": "execute_result",
          "data": {
            "text/html": [
              "<div>\n",
              "<style scoped>\n",
              "    .dataframe tbody tr th:only-of-type {\n",
              "        vertical-align: middle;\n",
              "    }\n",
              "\n",
              "    .dataframe tbody tr th {\n",
              "        vertical-align: top;\n",
              "    }\n",
              "\n",
              "    .dataframe thead th {\n",
              "        text-align: right;\n",
              "    }\n",
              "</style>\n",
              "<table border=\"1\" class=\"dataframe\">\n",
              "  <thead>\n",
              "    <tr style=\"text-align: right;\">\n",
              "      <th></th>\n",
              "      <th>filename_raw</th>\n",
              "      <th>size</th>\n",
              "    </tr>\n",
              "  </thead>\n",
              "  <tbody>\n",
              "    <tr>\n",
              "      <th>0</th>\n",
              "      <td>1.jpg</td>\n",
              "      <td>14395</td>\n",
              "    </tr>\n",
              "    <tr>\n",
              "      <th>1</th>\n",
              "      <td>2.jpg</td>\n",
              "      <td>9157</td>\n",
              "    </tr>\n",
              "    <tr>\n",
              "      <th>2</th>\n",
              "      <td>3.jpg</td>\n",
              "      <td>88694</td>\n",
              "    </tr>\n",
              "    <tr>\n",
              "      <th>3</th>\n",
              "      <td>4.jpg</td>\n",
              "      <td>117834</td>\n",
              "    </tr>\n",
              "    <tr>\n",
              "      <th>4</th>\n",
              "      <td>5.jpg</td>\n",
              "      <td>10370</td>\n",
              "    </tr>\n",
              "    <tr>\n",
              "      <th>...</th>\n",
              "      <td>...</td>\n",
              "      <td>...</td>\n",
              "    </tr>\n",
              "    <tr>\n",
              "      <th>312</th>\n",
              "      <td>313.jpg</td>\n",
              "      <td>12119</td>\n",
              "    </tr>\n",
              "    <tr>\n",
              "      <th>313</th>\n",
              "      <td>314.jpg</td>\n",
              "      <td>10515</td>\n",
              "    </tr>\n",
              "    <tr>\n",
              "      <th>314</th>\n",
              "      <td>315.jpg</td>\n",
              "      <td>20177</td>\n",
              "    </tr>\n",
              "    <tr>\n",
              "      <th>315</th>\n",
              "      <td>316.jpg</td>\n",
              "      <td>17615</td>\n",
              "    </tr>\n",
              "    <tr>\n",
              "      <th>316</th>\n",
              "      <td>317.jpg</td>\n",
              "      <td>6116</td>\n",
              "    </tr>\n",
              "  </tbody>\n",
              "</table>\n",
              "<p>317 rows × 2 columns</p>\n",
              "</div>"
            ],
            "text/plain": [
              "    filename_raw    size\n",
              "0          1.jpg   14395\n",
              "1          2.jpg    9157\n",
              "2          3.jpg   88694\n",
              "3          4.jpg  117834\n",
              "4          5.jpg   10370\n",
              "..           ...     ...\n",
              "312      313.jpg   12119\n",
              "313      314.jpg   10515\n",
              "314      315.jpg   20177\n",
              "315      316.jpg   17615\n",
              "316      317.jpg    6116\n",
              "\n",
              "[317 rows x 2 columns]"
            ]
          },
          "metadata": {},
          "execution_count": 5
        }
      ]
    },
    {
      "cell_type": "code",
      "metadata": {
        "id": "rIddeOzmOhj6"
      },
      "source": [
        "import re\n",
        "com = re.compile(' \\d')\n",
        "fsp['filename'] = list(map(lambda x: com.sub('',x), photo_list))"
      ],
      "execution_count": 6,
      "outputs": []
    },
    {
      "cell_type": "code",
      "metadata": {
        "colab": {
          "base_uri": "https://localhost:8080/",
          "height": 417
        },
        "id": "gbKjbIn8Ooyy",
        "outputId": "226efebe-77d3-497b-9f02-4e1832e0d4a3"
      },
      "source": [
        "pvc = pd.DataFrame({'filename':fsp['filename'].value_counts().index, 'fn_counts':fsp['filename'].value_counts().values})\n",
        "pvc"
      ],
      "execution_count": 7,
      "outputs": [
        {
          "output_type": "execute_result",
          "data": {
            "text/html": [
              "<div>\n",
              "<style scoped>\n",
              "    .dataframe tbody tr th:only-of-type {\n",
              "        vertical-align: middle;\n",
              "    }\n",
              "\n",
              "    .dataframe tbody tr th {\n",
              "        vertical-align: top;\n",
              "    }\n",
              "\n",
              "    .dataframe thead th {\n",
              "        text-align: right;\n",
              "    }\n",
              "</style>\n",
              "<table border=\"1\" class=\"dataframe\">\n",
              "  <thead>\n",
              "    <tr style=\"text-align: right;\">\n",
              "      <th></th>\n",
              "      <th>filename</th>\n",
              "      <th>fn_counts</th>\n",
              "    </tr>\n",
              "  </thead>\n",
              "  <tbody>\n",
              "    <tr>\n",
              "      <th>0</th>\n",
              "      <td>270.jpg</td>\n",
              "      <td>1</td>\n",
              "    </tr>\n",
              "    <tr>\n",
              "      <th>1</th>\n",
              "      <td>130.jpg</td>\n",
              "      <td>1</td>\n",
              "    </tr>\n",
              "    <tr>\n",
              "      <th>2</th>\n",
              "      <td>124.jpg</td>\n",
              "      <td>1</td>\n",
              "    </tr>\n",
              "    <tr>\n",
              "      <th>3</th>\n",
              "      <td>220.jpg</td>\n",
              "      <td>1</td>\n",
              "    </tr>\n",
              "    <tr>\n",
              "      <th>4</th>\n",
              "      <td>310.jpg</td>\n",
              "      <td>1</td>\n",
              "    </tr>\n",
              "    <tr>\n",
              "      <th>...</th>\n",
              "      <td>...</td>\n",
              "      <td>...</td>\n",
              "    </tr>\n",
              "    <tr>\n",
              "      <th>312</th>\n",
              "      <td>249.jpg</td>\n",
              "      <td>1</td>\n",
              "    </tr>\n",
              "    <tr>\n",
              "      <th>313</th>\n",
              "      <td>229.jpg</td>\n",
              "      <td>1</td>\n",
              "    </tr>\n",
              "    <tr>\n",
              "      <th>314</th>\n",
              "      <td>97.jpg</td>\n",
              "      <td>1</td>\n",
              "    </tr>\n",
              "    <tr>\n",
              "      <th>315</th>\n",
              "      <td>110.jpg</td>\n",
              "      <td>1</td>\n",
              "    </tr>\n",
              "    <tr>\n",
              "      <th>316</th>\n",
              "      <td>119.jpg</td>\n",
              "      <td>1</td>\n",
              "    </tr>\n",
              "  </tbody>\n",
              "</table>\n",
              "<p>317 rows × 2 columns</p>\n",
              "</div>"
            ],
            "text/plain": [
              "    filename  fn_counts\n",
              "0    270.jpg          1\n",
              "1    130.jpg          1\n",
              "2    124.jpg          1\n",
              "3    220.jpg          1\n",
              "4    310.jpg          1\n",
              "..       ...        ...\n",
              "312  249.jpg          1\n",
              "313  229.jpg          1\n",
              "314   97.jpg          1\n",
              "315  110.jpg          1\n",
              "316  119.jpg          1\n",
              "\n",
              "[317 rows x 2 columns]"
            ]
          },
          "metadata": {},
          "execution_count": 7
        }
      ]
    },
    {
      "cell_type": "code",
      "metadata": {
        "colab": {
          "base_uri": "https://localhost:8080/",
          "height": 417
        },
        "id": "-zfaUbvdO8GF",
        "outputId": "bb404d90-20f7-4ec7-a4fd-03986fc0de95"
      },
      "source": [
        "psvc = pd.DataFrame({'size':fsp['size'].value_counts().index, 'size_counts':fsp['size'].value_counts().values})\n",
        "psvc"
      ],
      "execution_count": 8,
      "outputs": [
        {
          "output_type": "execute_result",
          "data": {
            "text/html": [
              "<div>\n",
              "<style scoped>\n",
              "    .dataframe tbody tr th:only-of-type {\n",
              "        vertical-align: middle;\n",
              "    }\n",
              "\n",
              "    .dataframe tbody tr th {\n",
              "        vertical-align: top;\n",
              "    }\n",
              "\n",
              "    .dataframe thead th {\n",
              "        text-align: right;\n",
              "    }\n",
              "</style>\n",
              "<table border=\"1\" class=\"dataframe\">\n",
              "  <thead>\n",
              "    <tr style=\"text-align: right;\">\n",
              "      <th></th>\n",
              "      <th>size</th>\n",
              "      <th>size_counts</th>\n",
              "    </tr>\n",
              "  </thead>\n",
              "  <tbody>\n",
              "    <tr>\n",
              "      <th>0</th>\n",
              "      <td>7748</td>\n",
              "      <td>2</td>\n",
              "    </tr>\n",
              "    <tr>\n",
              "      <th>1</th>\n",
              "      <td>11424</td>\n",
              "      <td>2</td>\n",
              "    </tr>\n",
              "    <tr>\n",
              "      <th>2</th>\n",
              "      <td>9581</td>\n",
              "      <td>2</td>\n",
              "    </tr>\n",
              "    <tr>\n",
              "      <th>3</th>\n",
              "      <td>6373</td>\n",
              "      <td>2</td>\n",
              "    </tr>\n",
              "    <tr>\n",
              "      <th>4</th>\n",
              "      <td>6637</td>\n",
              "      <td>2</td>\n",
              "    </tr>\n",
              "    <tr>\n",
              "      <th>...</th>\n",
              "      <td>...</td>\n",
              "      <td>...</td>\n",
              "    </tr>\n",
              "    <tr>\n",
              "      <th>307</th>\n",
              "      <td>74584</td>\n",
              "      <td>1</td>\n",
              "    </tr>\n",
              "    <tr>\n",
              "      <th>308</th>\n",
              "      <td>13657</td>\n",
              "      <td>1</td>\n",
              "    </tr>\n",
              "    <tr>\n",
              "      <th>309</th>\n",
              "      <td>48474</td>\n",
              "      <td>1</td>\n",
              "    </tr>\n",
              "    <tr>\n",
              "      <th>310</th>\n",
              "      <td>9566</td>\n",
              "      <td>1</td>\n",
              "    </tr>\n",
              "    <tr>\n",
              "      <th>311</th>\n",
              "      <td>10668</td>\n",
              "      <td>1</td>\n",
              "    </tr>\n",
              "  </tbody>\n",
              "</table>\n",
              "<p>312 rows × 2 columns</p>\n",
              "</div>"
            ],
            "text/plain": [
              "      size  size_counts\n",
              "0     7748            2\n",
              "1    11424            2\n",
              "2     9581            2\n",
              "3     6373            2\n",
              "4     6637            2\n",
              "..     ...          ...\n",
              "307  74584            1\n",
              "308  13657            1\n",
              "309  48474            1\n",
              "310   9566            1\n",
              "311  10668            1\n",
              "\n",
              "[312 rows x 2 columns]"
            ]
          },
          "metadata": {},
          "execution_count": 8
        }
      ]
    },
    {
      "cell_type": "code",
      "metadata": {
        "colab": {
          "base_uri": "https://localhost:8080/",
          "height": 110
        },
        "id": "kmJsmEBDO-vt",
        "outputId": "6de76917-5c56-4354-fcc4-e43041f5ea4a"
      },
      "source": [
        "fsp = pd.merge(fsp, pvc, how = 'left', on = 'filename')\n",
        "fsp = pd.merge(fsp, psvc, how = 'left', on = 'size')\n",
        "\n",
        "fsp.sample(2)"
      ],
      "execution_count": 9,
      "outputs": [
        {
          "output_type": "execute_result",
          "data": {
            "text/html": [
              "<div>\n",
              "<style scoped>\n",
              "    .dataframe tbody tr th:only-of-type {\n",
              "        vertical-align: middle;\n",
              "    }\n",
              "\n",
              "    .dataframe tbody tr th {\n",
              "        vertical-align: top;\n",
              "    }\n",
              "\n",
              "    .dataframe thead th {\n",
              "        text-align: right;\n",
              "    }\n",
              "</style>\n",
              "<table border=\"1\" class=\"dataframe\">\n",
              "  <thead>\n",
              "    <tr style=\"text-align: right;\">\n",
              "      <th></th>\n",
              "      <th>filename_raw</th>\n",
              "      <th>size</th>\n",
              "      <th>filename</th>\n",
              "      <th>fn_counts</th>\n",
              "      <th>size_counts</th>\n",
              "    </tr>\n",
              "  </thead>\n",
              "  <tbody>\n",
              "    <tr>\n",
              "      <th>174</th>\n",
              "      <td>175.jpg</td>\n",
              "      <td>9116</td>\n",
              "      <td>175.jpg</td>\n",
              "      <td>1</td>\n",
              "      <td>1</td>\n",
              "    </tr>\n",
              "    <tr>\n",
              "      <th>273</th>\n",
              "      <td>274.jpg</td>\n",
              "      <td>9277</td>\n",
              "      <td>274.jpg</td>\n",
              "      <td>1</td>\n",
              "      <td>1</td>\n",
              "    </tr>\n",
              "  </tbody>\n",
              "</table>\n",
              "</div>"
            ],
            "text/plain": [
              "    filename_raw  size filename  fn_counts  size_counts\n",
              "174      175.jpg  9116  175.jpg          1            1\n",
              "273      274.jpg  9277  274.jpg          1            1"
            ]
          },
          "metadata": {},
          "execution_count": 9
        }
      ]
    },
    {
      "cell_type": "code",
      "metadata": {
        "colab": {
          "base_uri": "https://localhost:8080/",
          "height": 203
        },
        "id": "ecA-82r2PDz4",
        "outputId": "a2888dc4-e8aa-4437-eff5-2a4b7a386961"
      },
      "source": [
        "fsp.sample(5)"
      ],
      "execution_count": 10,
      "outputs": [
        {
          "output_type": "execute_result",
          "data": {
            "text/html": [
              "<div>\n",
              "<style scoped>\n",
              "    .dataframe tbody tr th:only-of-type {\n",
              "        vertical-align: middle;\n",
              "    }\n",
              "\n",
              "    .dataframe tbody tr th {\n",
              "        vertical-align: top;\n",
              "    }\n",
              "\n",
              "    .dataframe thead th {\n",
              "        text-align: right;\n",
              "    }\n",
              "</style>\n",
              "<table border=\"1\" class=\"dataframe\">\n",
              "  <thead>\n",
              "    <tr style=\"text-align: right;\">\n",
              "      <th></th>\n",
              "      <th>filename_raw</th>\n",
              "      <th>size</th>\n",
              "      <th>filename</th>\n",
              "      <th>fn_counts</th>\n",
              "      <th>size_counts</th>\n",
              "    </tr>\n",
              "  </thead>\n",
              "  <tbody>\n",
              "    <tr>\n",
              "      <th>97</th>\n",
              "      <td>98.jpg</td>\n",
              "      <td>105874</td>\n",
              "      <td>98.jpg</td>\n",
              "      <td>1</td>\n",
              "      <td>1</td>\n",
              "    </tr>\n",
              "    <tr>\n",
              "      <th>3</th>\n",
              "      <td>4.jpg</td>\n",
              "      <td>117834</td>\n",
              "      <td>4.jpg</td>\n",
              "      <td>1</td>\n",
              "      <td>1</td>\n",
              "    </tr>\n",
              "    <tr>\n",
              "      <th>25</th>\n",
              "      <td>26.jpg</td>\n",
              "      <td>73791</td>\n",
              "      <td>26.jpg</td>\n",
              "      <td>1</td>\n",
              "      <td>1</td>\n",
              "    </tr>\n",
              "    <tr>\n",
              "      <th>309</th>\n",
              "      <td>310.jpg</td>\n",
              "      <td>11424</td>\n",
              "      <td>310.jpg</td>\n",
              "      <td>1</td>\n",
              "      <td>2</td>\n",
              "    </tr>\n",
              "    <tr>\n",
              "      <th>225</th>\n",
              "      <td>226.jpg</td>\n",
              "      <td>7675</td>\n",
              "      <td>226.jpg</td>\n",
              "      <td>1</td>\n",
              "      <td>1</td>\n",
              "    </tr>\n",
              "  </tbody>\n",
              "</table>\n",
              "</div>"
            ],
            "text/plain": [
              "    filename_raw    size filename  fn_counts  size_counts\n",
              "97        98.jpg  105874   98.jpg          1            1\n",
              "3          4.jpg  117834    4.jpg          1            1\n",
              "25        26.jpg   73791   26.jpg          1            1\n",
              "309      310.jpg   11424  310.jpg          1            2\n",
              "225      226.jpg    7675  226.jpg          1            1"
            ]
          },
          "metadata": {},
          "execution_count": 10
        }
      ]
    },
    {
      "cell_type": "code",
      "metadata": {
        "colab": {
          "base_uri": "https://localhost:8080/"
        },
        "id": "LUAMNVFZPT0b",
        "outputId": "6d305072-b313-4723-8938-7d4aa8cd36f5"
      },
      "source": [
        "for i in range(len(fsp)):\n",
        "    if (fsp['fn_counts'][i]) > 1 & (fsp['size_counts'][i] == 1):\n",
        "        print(i)"
      ],
      "execution_count": 11,
      "outputs": [
        {
          "output_type": "stream",
          "name": "stdout",
          "text": [
            "130\n",
            "132\n",
            "141\n",
            "170\n",
            "172\n",
            "244\n",
            "264\n",
            "278\n",
            "304\n",
            "309\n"
          ]
        }
      ]
    },
    {
      "cell_type": "code",
      "metadata": {
        "id": "XJNKE3PLPWHr"
      },
      "source": [
        "fsp_nsn = fsp.sort_values(['filename_raw'], ascending = False).drop_duplicates(['filename'], keep='first')"
      ],
      "execution_count": 12,
      "outputs": []
    },
    {
      "cell_type": "code",
      "metadata": {
        "colab": {
          "base_uri": "https://localhost:8080/"
        },
        "id": "L2FAbihTPZQc",
        "outputId": "c38cb3b8-eb4a-4f6a-968a-51114a290077"
      },
      "source": [
        "print('남은 사진의 갯수 : {}\\n지워진 사진의 갯수 : {}'.format(len(fsp_nsn), len(fsp)-len(fsp_nsn)))"
      ],
      "execution_count": 13,
      "outputs": [
        {
          "output_type": "stream",
          "name": "stdout",
          "text": [
            "남은 사진의 갯수 : 317\n",
            "지워진 사진의 갯수 : 0\n"
          ]
        }
      ]
    },
    {
      "cell_type": "code",
      "metadata": {
        "id": "w9oYkoSWPblP"
      },
      "source": [
        "pvc_nsn = pd.DataFrame({'filename':fsp_nsn['filename'].value_counts().index, 'fn_counts_nsn':fsp_nsn['filename'].value_counts().values})   \n",
        "psvc_nsn = pd.DataFrame({'size':fsp_nsn['size'].value_counts().index, 'size_counts_nsn':fsp_nsn['size'].value_counts().values})   \n",
        "\n",
        "fsp_nsn = pd.merge(fsp_nsn, pvc_nsn, how = 'left', on = 'filename')\n",
        "fsp_nsn = pd.merge(fsp_nsn, psvc_nsn, how = 'left', on = 'size')"
      ],
      "execution_count": 14,
      "outputs": []
    },
    {
      "cell_type": "code",
      "metadata": {
        "colab": {
          "base_uri": "https://localhost:8080/",
          "height": 49
        },
        "id": "VlUUFTuRPdR_",
        "outputId": "6fb31f16-8266-4656-e066-bfffd850c373"
      },
      "source": [
        "fsp_nsn[fsp_nsn['fn_counts_nsn']!=1]"
      ],
      "execution_count": 15,
      "outputs": [
        {
          "output_type": "execute_result",
          "data": {
            "text/html": [
              "<div>\n",
              "<style scoped>\n",
              "    .dataframe tbody tr th:only-of-type {\n",
              "        vertical-align: middle;\n",
              "    }\n",
              "\n",
              "    .dataframe tbody tr th {\n",
              "        vertical-align: top;\n",
              "    }\n",
              "\n",
              "    .dataframe thead th {\n",
              "        text-align: right;\n",
              "    }\n",
              "</style>\n",
              "<table border=\"1\" class=\"dataframe\">\n",
              "  <thead>\n",
              "    <tr style=\"text-align: right;\">\n",
              "      <th></th>\n",
              "      <th>filename_raw</th>\n",
              "      <th>size</th>\n",
              "      <th>filename</th>\n",
              "      <th>fn_counts</th>\n",
              "      <th>size_counts</th>\n",
              "      <th>fn_counts_nsn</th>\n",
              "      <th>size_counts_nsn</th>\n",
              "    </tr>\n",
              "  </thead>\n",
              "  <tbody>\n",
              "  </tbody>\n",
              "</table>\n",
              "</div>"
            ],
            "text/plain": [
              "Empty DataFrame\n",
              "Columns: [filename_raw, size, filename, fn_counts, size_counts, fn_counts_nsn, size_counts_nsn]\n",
              "Index: []"
            ]
          },
          "metadata": {},
          "execution_count": 15
        }
      ]
    },
    {
      "cell_type": "code",
      "metadata": {
        "colab": {
          "base_uri": "https://localhost:8080/"
        },
        "id": "cOc7KgOaPfI_",
        "outputId": "186bb3b9-8d7c-4444-e599-a5b4a6587286"
      },
      "source": [
        "print('사이즈 겹치는 사진의 갯수 :', len(fsp_nsn[fsp_nsn['size_counts_nsn']!=1]))\n",
        "print('중복 사이즈의 갯수 :', len(psvc_nsn[psvc_nsn['size_counts_nsn']>1]))"
      ],
      "execution_count": 16,
      "outputs": [
        {
          "output_type": "stream",
          "name": "stdout",
          "text": [
            "사이즈 겹치는 사진의 갯수 : 10\n",
            "중복 사이즈의 갯수 : 5\n"
          ]
        }
      ]
    },
    {
      "cell_type": "code",
      "metadata": {
        "colab": {
          "base_uri": "https://localhost:8080/"
        },
        "id": "NoGBvUrbPiWm",
        "outputId": "14f08975-283c-431c-ff43-38ec99f7ffa0"
      },
      "source": [
        "!pip install opencv-python\n",
        "!pip install scikit-image\n",
        "!pip install imutils"
      ],
      "execution_count": 17,
      "outputs": [
        {
          "output_type": "stream",
          "name": "stdout",
          "text": [
            "Requirement already satisfied: opencv-python in /usr/local/lib/python3.7/dist-packages (4.1.2.30)\n",
            "Requirement already satisfied: numpy>=1.14.5 in /usr/local/lib/python3.7/dist-packages (from opencv-python) (1.19.5)\n",
            "Requirement already satisfied: scikit-image in /usr/local/lib/python3.7/dist-packages (0.16.2)\n",
            "Requirement already satisfied: matplotlib!=3.0.0,>=2.0.0 in /usr/local/lib/python3.7/dist-packages (from scikit-image) (3.2.2)\n",
            "Requirement already satisfied: scipy>=0.19.0 in /usr/local/lib/python3.7/dist-packages (from scikit-image) (1.4.1)\n",
            "Requirement already satisfied: imageio>=2.3.0 in /usr/local/lib/python3.7/dist-packages (from scikit-image) (2.4.1)\n",
            "Requirement already satisfied: PyWavelets>=0.4.0 in /usr/local/lib/python3.7/dist-packages (from scikit-image) (1.1.1)\n",
            "Requirement already satisfied: networkx>=2.0 in /usr/local/lib/python3.7/dist-packages (from scikit-image) (2.6.2)\n",
            "Requirement already satisfied: pillow>=4.3.0 in /usr/local/lib/python3.7/dist-packages (from scikit-image) (7.1.2)\n",
            "Requirement already satisfied: numpy in /usr/local/lib/python3.7/dist-packages (from imageio>=2.3.0->scikit-image) (1.19.5)\n",
            "Requirement already satisfied: pyparsing!=2.0.4,!=2.1.2,!=2.1.6,>=2.0.1 in /usr/local/lib/python3.7/dist-packages (from matplotlib!=3.0.0,>=2.0.0->scikit-image) (2.4.7)\n",
            "Requirement already satisfied: kiwisolver>=1.0.1 in /usr/local/lib/python3.7/dist-packages (from matplotlib!=3.0.0,>=2.0.0->scikit-image) (1.3.1)\n",
            "Requirement already satisfied: python-dateutil>=2.1 in /usr/local/lib/python3.7/dist-packages (from matplotlib!=3.0.0,>=2.0.0->scikit-image) (2.8.2)\n",
            "Requirement already satisfied: cycler>=0.10 in /usr/local/lib/python3.7/dist-packages (from matplotlib!=3.0.0,>=2.0.0->scikit-image) (0.10.0)\n",
            "Requirement already satisfied: six in /usr/local/lib/python3.7/dist-packages (from cycler>=0.10->matplotlib!=3.0.0,>=2.0.0->scikit-image) (1.15.0)\n",
            "Requirement already satisfied: imutils in /usr/local/lib/python3.7/dist-packages (0.5.4)\n"
          ]
        }
      ]
    },
    {
      "cell_type": "code",
      "metadata": {
        "colab": {
          "base_uri": "https://localhost:8080/"
        },
        "id": "fhjGUpRaPo0t",
        "outputId": "1abe957f-ad04-4937-af71-ba3d1046ada8"
      },
      "source": [
        "import cv2   # OpenCV\n",
        "from skimage.measure import compare_ssim\n",
        "\n",
        "# 삭제될 사진의 리스트\n",
        "delete = []\n",
        "\n",
        "\n",
        "for i in range(len(psvc_nsn)):\n",
        "    \n",
        "    # 중복된 크기(size)가 있는 경우\n",
        "    if psvc_nsn['size_counts_nsn'][i] == 2:\n",
        "        \n",
        "        # 그 크기에 해당하는 사진을 불러온다. \n",
        "        temp = fsp_nsn[fsp_nsn['size']==psvc_nsn['size'][i]].reset_index(drop = True).sort_values(['filename'])\n",
        "        \n",
        "        # 사진 읽기\n",
        "        imageA = cv2.imread('/content/drive/MyDrive/dataset/container/'+temp['filename_raw'][0])\n",
        "        imageB = cv2.imread('/content/drive/MyDrive/dataset/container/'+temp['filename_raw'][1])\n",
        "        \n",
        "        # 이미지를 grayscale로 변환\n",
        "        grayA = cv2.cvtColor(imageA, cv2.COLOR_BGR2GRAY)\n",
        "        grayB = cv2.cvtColor(imageB, cv2.COLOR_BGR2GRAY)\n",
        "        \n",
        "        # 이미지의 구조가 같다면 이미지 비교\n",
        "        if len(grayA)==len(grayB):\n",
        "            (score, diff) = compare_ssim(grayA, grayB, full=True)\n",
        "            \n",
        "            # 차이가 없다면 하나는 delete에 넣어주기\n",
        "            if score == 1:\n",
        "                delete.append(temp['filename_raw'][1])\n",
        "            \n",
        "            # 구조가 같지만 차이가 존재한다면 직접 확인하기     \n",
        "            else:\n",
        "                print('확인해보시오! : ', temp['filename_raw'][0], '/', temp['filename_raw'][1], f'(score : {score})')"
      ],
      "execution_count": 18,
      "outputs": [
        {
          "output_type": "stream",
          "name": "stdout",
          "text": [
            "확인해보시오! :  245.jpg / 171.jpg (score : 0.23809722621131663)\n"
          ]
        },
        {
          "output_type": "stream",
          "name": "stderr",
          "text": [
            "/usr/local/lib/python3.7/dist-packages/ipykernel_launcher.py:26: UserWarning: DEPRECATED: skimage.measure.compare_ssim has been moved to skimage.metrics.structural_similarity. It will be removed from skimage.measure in version 0.18.\n",
            "/usr/local/lib/python3.7/dist-packages/ipykernel_launcher.py:26: UserWarning: DEPRECATED: skimage.measure.compare_ssim has been moved to skimage.metrics.structural_similarity. It will be removed from skimage.measure in version 0.18.\n"
          ]
        }
      ]
    },
    {
      "cell_type": "code",
      "metadata": {
        "colab": {
          "base_uri": "https://localhost:8080/"
        },
        "id": "if-B9CEFPtAu",
        "outputId": "01c4b9b1-65b5-4aa9-cee1-1b2e9e4a5849"
      },
      "source": [
        "# 중복제거된 것들은 delete 리스트에 넣어주기\n",
        "delete = delete + list(fsp[~fsp['filename_raw'].isin(fsp_nsn['filename_raw'])]['filename_raw'])\n",
        "\n",
        "print('삭제할 목록 :', len(delete))"
      ],
      "execution_count": 19,
      "outputs": [
        {
          "output_type": "stream",
          "name": "stdout",
          "text": [
            "삭제할 목록 : 1\n"
          ]
        }
      ]
    },
    {
      "cell_type": "code",
      "metadata": {
        "colab": {
          "base_uri": "https://localhost:8080/"
        },
        "id": "h28eKZLHP17K",
        "outputId": "2ca5d3ea-9251-4e7e-8880-b809eb580a52"
      },
      "source": [
        "# result : 처음(fsp)데이터에서 - delete를 제외한 것\n",
        "result = list(fsp[~fsp['filename_raw'].isin(delete)]['filename_raw'])\n",
        "\n",
        "print('남길 목록 : ', len(result))"
      ],
      "execution_count": 20,
      "outputs": [
        {
          "output_type": "stream",
          "name": "stdout",
          "text": [
            "남길 목록 :  316\n"
          ]
        }
      ]
    },
    {
      "cell_type": "code",
      "metadata": {
        "id": "MtUcjyLsP7Ac"
      },
      "source": [
        "import shutil\n",
        "\n",
        "for i in result:\n",
        "    shutil.move('/content/drive/MyDrive/dataset/container/'+i, '/content/drive/MyDrive/dataset/result')\n",
        "    \n",
        "for i in delete:\n",
        "    shutil.move('/content/drive/MyDrive/dataset/container/'+i, '/content/drive/MyDrive/dataset/delete')    "
      ],
      "execution_count": 22,
      "outputs": []
    }
  ]
}