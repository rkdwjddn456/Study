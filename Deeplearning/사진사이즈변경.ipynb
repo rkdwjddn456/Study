{
  "nbformat": 4,
  "nbformat_minor": 0,
  "metadata": {
    "colab": {
      "name": "사진사이즈변경.ipynb",
      "provenance": [],
      "collapsed_sections": []
    },
    "kernelspec": {
      "name": "python3",
      "display_name": "Python 3"
    },
    "language_info": {
      "name": "python"
    }
  },
  "cells": [
    {
      "cell_type": "markdown",
      "metadata": {
        "id": "9EJEXRgnw9bP"
      },
      "source": [
        "사진 1개 사이즈 변경"
      ]
    },
    {
      "cell_type": "code",
      "metadata": {
        "colab": {
          "base_uri": "https://localhost:8080/"
        },
        "id": "_WtgS0oRrS38",
        "outputId": "31b6c736-2bba-473c-fd12-0f4a22ae04d3"
      },
      "source": [
        "import glob\n",
        "from PIL import Image\n",
        "\n",
        "MY_PATH = glob.glob(\"/content/drive/MyDrive/dataset/container/train/damaged/*.jpg\")\n",
        "\n",
        "img = Image.open(MY_PATH[0])\n",
        "print(img.size)\n",
        "\n",
        "img_resize = img.resize((256,256))\n",
        "img_resize.save(\"/content/drive/MyDrive/dataset/con/train/damaged/1.jpg\")\n",
        "print(img_resize.size)"
      ],
      "execution_count": null,
      "outputs": [
        {
          "output_type": "stream",
          "name": "stdout",
          "text": [
            "(240, 320)\n",
            "(256, 256)\n"
          ]
        }
      ]
    },
    {
      "cell_type": "markdown",
      "metadata": {
        "id": "zT8qhufTxDwb"
      },
      "source": [
        "사진 여러개 사이즈 변경"
      ]
    },
    {
      "cell_type": "code",
      "metadata": {
        "id": "HgjVuYuNwG25"
      },
      "source": [
        "import os\n",
        "import glob\n",
        "from PIL import Image\n",
        "\n",
        "MY_PATH = glob.glob(\"/content/drive/MyDrive/dataset/container_1/test/damaged/*\")\n",
        "\n",
        "for img_path in MY_PATH:\n",
        "  title , ext = os.path.splitext(img_path)\n",
        "  if ext in ['.jpg','.jfif','.PNG']:\n",
        "    img = Image.open(img_path)\n",
        "    img = img.convert('RGB')\n",
        "    img_resize = img.resize((256,256))\n",
        "    img_resize.save(img_path)"
      ],
      "execution_count": null,
      "outputs": []
    },
    {
      "cell_type": "code",
      "metadata": {
        "id": "_cOsCWLPGa9r"
      },
      "source": [
        ""
      ],
      "execution_count": null,
      "outputs": []
    }
  ]
}